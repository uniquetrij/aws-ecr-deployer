{
  "nbformat": 4,
  "nbformat_minor": 0,
  "metadata": {
    "colab": {
      "provenance": [],
      "collapsed_sections": [
        "fevyy2tiWTuK"
      ]
    },
    "kernelspec": {
      "name": "python3",
      "display_name": "Python 3"
    },
    "language_info": {
      "name": "python"
    }
  },
  "cells": [
    {
      "cell_type": "markdown",
      "source": [
        "# Configurations"
      ],
      "metadata": {
        "id": "Te6ZbqVfWqG-"
      }
    },
    {
      "cell_type": "code",
      "source": [
        "#@title AWS Credentials Setup\n",
        "\n",
        "AWS_ACCESS_KEY_ID = '' #@param {type:\"string\"}\n",
        "AWS_SECRET_ACCESS_KEY = '' #@param {type:\"string\"}\n",
        "CLUSTER_NAME = '' #@param {type:\"string\"}\n",
        "REGION = '' #@param {type:\"string\"}\n",
        "\n",
        "NAMESPACE = 'hello-docker' #@param {type:\"string\"}\n",
        "DOCKER_IMAGE = 'docker.io/uniquetrij/hello-docker:screened' #@param {type:\"string\"}\n",
        "\n",
        "SERVER_PORT = '8000' #@param {type:\"string\"}\n",
        "SPRING_SECURITY_OAUTH2_CLIENT_PROVIDER_OIDC_ISSUER_URI = '' #@param {type:\"string\"}\n",
        "SPRING_DATASOURCE_URL = '' #@param {type:\"string\"}\n",
        "SPRING_DATASOURCE_USERNAME = '' #@param {type:\"string\"}\n",
        "SPRING_DATASOURCE_PASSWORD = '' #@param {type:\"string\"}\n",
        "\n",
        "\n",
        "\n"
      ],
      "metadata": {
        "id": "mZQDprCFvvxz"
      },
      "execution_count": null,
      "outputs": []
    },
    {
      "cell_type": "markdown",
      "source": [
        "# Setup"
      ],
      "metadata": {
        "id": "fevyy2tiWTuK"
      }
    },
    {
      "cell_type": "code",
      "source": [
        "!pip install awscli # !apt update && apt install awscli -y\n",
        "!aws --version"
      ],
      "metadata": {
        "id": "Oamt_OGx5n_h"
      },
      "execution_count": null,
      "outputs": []
    },
    {
      "cell_type": "code",
      "source": [
        "!curl -LO https://storage.googleapis.com/kubernetes-release/release/$(curl -s https://storage.googleapis.com/kubernetes-release/release/stable.txt)/bin/linux/amd64/kubectl\n",
        "!chmod +x ./kubectl\n",
        "!sudo mv ./kubectl /usr/local/bin/kubectl\n",
        "!source ~/.bashrc\n",
        "!kubectl version"
      ],
      "metadata": {
        "id": "DRzjo4UWpNR7"
      },
      "execution_count": null,
      "outputs": []
    },
    {
      "cell_type": "code",
      "source": [
        "!curl -fsSL https://download.docker.com/linux/ubuntu/gpg | sudo apt-key add - \n",
        "!sudo add-apt-repository \"deb [arch=amd64] https://download.docker.com/linux/ubuntu bionic stable\" \n",
        "!sudo apt install docker-ce -y\n",
        "# !sudo apt install docker.io -y\n",
        "!docker -v"
      ],
      "metadata": {
        "id": "WK50r8fSqABu"
      },
      "execution_count": null,
      "outputs": []
    },
    {
      "cell_type": "code",
      "source": [
        "!aws configure set aws_access_key_id $AWS_ACCESS_KEY_ID\n",
        "!aws configure set aws_secret_access_key $AWS_SECRET_ACCESS_KEY\n",
        "!aws configure set region $REGION\n",
        "!aws sts get-caller-identity\n",
        "!aws eks --region $REGION update-kubeconfig --name $CLUSTER_NAME\n",
        "!kubectl get namespaces --kubeconfig ~/.kube/config"
      ],
      "metadata": {
        "id": "MHCtQgSOl5cd"
      },
      "execution_count": null,
      "outputs": []
    },
    {
      "cell_type": "code",
      "source": [
        "ACCOUNT = !aws sts get-caller-identity --query \"Account\" --output text\n",
        "ACCOUNT = ACCOUNT[0]\n",
        "ECR = !echo $(echo $ACCOUNT).dkr.ecr.$(echo $REGION).amazonaws.com\n",
        "ECR = ECR[0]\n",
        "\n",
        "!aws ecr get-login-password --region $REGION | docker login --username AWS --password-stdin $ECR"
      ],
      "metadata": {
        "id": "VHq8u0ok5dYw"
      },
      "execution_count": null,
      "outputs": []
    },
    {
      "cell_type": "code",
      "source": [
        "from IPython.core.magic import register_line_cell_magic\n",
        "import re\n",
        "BRACES='{}'\n",
        "@register_line_cell_magic\n",
        "def writetemplate(line, cell):\n",
        "    with open(line, 'w') as f:\n",
        "        cell = re.sub(r'(\\$\\{)([a-zA-Z0-9_-]+)(\\})' , r'{\\2}', cell)\n",
        "        cell = re.sub(r'(\\$)([a-zA-Z0-9_-]+)' , r'{\\2}', cell)\n",
        "       \n",
        "        cell = re.sub(r'\\{\\}' , '{BRACES}', cell)\n",
        "        f.write(cell.format(**globals()))"
      ],
      "metadata": {
        "id": "n8QAVaKpQSNj"
      },
      "execution_count": null,
      "outputs": []
    },
    {
      "cell_type": "markdown",
      "source": [
        "# YAML"
      ],
      "metadata": {
        "id": "n9JElV8IXSt0"
      }
    },
    {
      "cell_type": "code",
      "source": [
        "%%writetemplate namespace.yml\n",
        "apiVersion: v1\n",
        "kind: Namespace\n",
        "metadata:\n",
        "  name: $NAMESPACE"
      ],
      "metadata": {
        "id": "BZzNYyvuuJj1"
      },
      "execution_count": null,
      "outputs": []
    },
    {
      "cell_type": "code",
      "source": [
        "!cat namespace.yml"
      ],
      "metadata": {
        "id": "SEAX2dyYrWn_"
      },
      "execution_count": null,
      "outputs": []
    },
    {
      "cell_type": "code",
      "source": [
        "!kubectl apply -f namespace.yml\n",
        "!kubectl get namespaces #| grep $NAMESPACE"
      ],
      "metadata": {
        "id": "YLxTvseLugyM"
      },
      "execution_count": null,
      "outputs": []
    },
    {
      "cell_type": "code",
      "source": [
        "%%writetemplate configmap.yml\n",
        "kind: ConfigMap\n",
        "apiVersion: v1\n",
        "metadata:\n",
        "  name: ${NAMESPACE}-configmap\n",
        "  namespace: $NAMESPACE\n",
        "data:\n",
        "  SERVER_PORT: \"$SERVER_PORT\""
      ],
      "metadata": {
        "id": "f5X46cVoiLu4"
      },
      "execution_count": null,
      "outputs": []
    },
    {
      "cell_type": "code",
      "source": [
        "!cat configmap.yml"
      ],
      "metadata": {
        "id": "qlXZ9FOkrF4U"
      },
      "execution_count": null,
      "outputs": []
    },
    {
      "cell_type": "code",
      "source": [
        "!kubectl apply -f configmap.yml\n",
        "!kubectl get configmap -n $NAMESPACE #| grep $NAMESPACE"
      ],
      "metadata": {
        "id": "6Pr__Cupuek3"
      },
      "execution_count": null,
      "outputs": []
    },
    {
      "cell_type": "code",
      "source": [
        "%%writetemplate service.yml\n",
        "apiVersion: v1\n",
        "kind: Service\n",
        "metadata:\n",
        "  name: $NAMESPACE\n",
        "  namespace: $NAMESPACE\n",
        "  labels:\n",
        "    app: $NAMESPACE\n",
        "spec:\n",
        "  selector:\n",
        "    app: $NAMESPACE\n",
        "  ports:\n",
        "    - protocol: TCP\n",
        "      port: $SERVER_PORT\n",
        "  sessionAffinity: ClientIP\n",
        "  type: ClusterIP"
      ],
      "metadata": {
        "id": "UaJpDXKbrI8J"
      },
      "execution_count": null,
      "outputs": []
    },
    {
      "cell_type": "code",
      "source": [
        "!cat service.yml"
      ],
      "metadata": {
        "id": "4abq9nPovKMC"
      },
      "execution_count": null,
      "outputs": []
    },
    {
      "cell_type": "code",
      "source": [
        "!kubectl apply -f service.yml\n",
        "!kubectl get service -n $NAMESPACE #| grep $NAMESPACE"
      ],
      "metadata": {
        "id": "_PSy46zgvQEP"
      },
      "execution_count": null,
      "outputs": []
    },
    {
      "cell_type": "code",
      "source": [
        "%%writetemplate deployment.yml\n",
        "apiVersion: apps/v1\n",
        "kind: Deployment\n",
        "metadata:\n",
        "  name: $NAMESPACE\n",
        "  namespace: $NAMESPACE\n",
        "  labels:\n",
        "    app: $NAMESPACE\n",
        "spec:\n",
        "  replicas: 1\n",
        "  selector:\n",
        "    matchLabels:\n",
        "      app: $NAMESPACE\n",
        "  strategy: {}\n",
        "  template:\n",
        "    metadata:\n",
        "      labels:\n",
        "        app: $NAMESPACE\n",
        "    spec:\n",
        "      containers:\n",
        "        - name: $NAMESPACE\n",
        "          image: $DOCKER_IMG\n",
        "          imagePullPolicy: Always\n",
        "          ports:\n",
        "            - name: http\n",
        "              containerPort: $SERVER_PORT\n",
        "      restartPolicy: Always\n",
        "      serviceAccountName: ''"
      ],
      "metadata": {
        "id": "bUtRday7vYKB"
      },
      "execution_count": null,
      "outputs": []
    },
    {
      "cell_type": "code",
      "source": [
        "!cat deployment.yml"
      ],
      "metadata": {
        "id": "8k1d1XVRxR2O"
      },
      "execution_count": null,
      "outputs": []
    },
    {
      "cell_type": "code",
      "source": [
        "!kubectl apply -f deployment.yml\n",
        "!kubectl get deployment -n $NAMESPACE #| grep $NAMESPACE"
      ],
      "metadata": {
        "id": "-VdcBYx8w_PS"
      },
      "execution_count": null,
      "outputs": []
    },
    {
      "cell_type": "code",
      "source": [
        "%%writetemplate ingress.yml\n",
        "apiVersion: networking.k8s.io/v1\n",
        "kind: Ingress\n",
        "metadata:\n",
        "  name: ${NAMESPACE}-ingress\n",
        "  namespace: $NAMESPACE\n",
        "  annotations:\n",
        "    kubernetes.io/ingress.class: \"nginx\"\n",
        "    nginx.ingress.kubernetes.io/rewrite-target: /\n",
        "spec:\n",
        "  rules:\n",
        "    - http:\n",
        "        paths:\n",
        "          - path: /${NAMESPACE}\n",
        "            pathType: ImplementationSpecific\n",
        "            backend:\n",
        "              service:\n",
        "                name: ${NAMESPACE}\n",
        "                port:\n",
        "                  number: ${SERVER_PORT}\n",
        "\n",
        "\n",
        "\n"
      ],
      "metadata": {
        "id": "AA6PFk3HzLIB"
      },
      "execution_count": null,
      "outputs": []
    },
    {
      "cell_type": "code",
      "source": [
        "!cat ingress.yml"
      ],
      "metadata": {
        "id": "sMvozV7x0mKv"
      },
      "execution_count": null,
      "outputs": []
    },
    {
      "cell_type": "code",
      "source": [
        "!kubectl apply -f ingress.yml\n",
        "!kubectl get ingress -n $NAMESPACE #| grep $NAMESPACE"
      ],
      "metadata": {
        "id": "RkywbdVI0r7U"
      },
      "execution_count": null,
      "outputs": []
    },
    {
      "cell_type": "code",
      "source": [
        "!kubectl describe ingress -n $NAMESPACE"
      ],
      "metadata": {
        "id": "4Yx8r1E91p4j"
      },
      "execution_count": null,
      "outputs": []
    },
    {
      "cell_type": "code",
      "source": [
        "!aws ecr create-repository --repository-name $NAMESPACE "
      ],
      "metadata": {
        "id": "WZ1mGwkp7Tzs"
      },
      "execution_count": null,
      "outputs": []
    },
    {
      "cell_type": "code",
      "source": [
        "%%bash -s $ECR $NAMESPACE $DOCKER_IMG\n",
        "set -x\n",
        "dockerd -b none --iptables=0 -l fatal &\n",
        "for i in $(seq 5); do [ ! -S \"/var/run/docker.sock\" ] && sleep 2 || break; done\n",
        "echo y | docker system prune -a\n",
        "docker pull $3 | grep \"Digest:\" | cut -f2 -d \" \" > container_digest\n",
        "cat container_digest\n",
        "IMG=$(docker images --digests | grep $(cat container_digest) | sed -Ee 's/\\s+/ /g' | cut -f4 -d \" \")\n",
        "echo $IMG\n",
        "\n",
        "# # IMG=$(docker images | grep $3 | awk '{ print $3 }')\n",
        "# # TAG=$(docker images | grep $3 | awk '{ print $2 }')\n",
        "\n",
        "docker tag $IMG $1/$2\n",
        "docker push $1/$2\n",
        "kill $(jobs -p)"
      ],
      "metadata": {
        "id": "HcqN8zaexFjt"
      },
      "execution_count": null,
      "outputs": []
    },
    {
      "cell_type": "code",
      "source": [
        "# !aws ecr create-repository --repository-name campaigns/flow-nodes-summary\n",
        "!aws ecr describe-images --repository-name $NAMESPACE\n",
        "# !aws ecr describe-repositories --region $REGION"
      ],
      "metadata": {
        "id": "zJZunJlOzAWm"
      },
      "execution_count": null,
      "outputs": []
    },
    {
      "cell_type": "markdown",
      "source": [
        "# Clean Namespace Resources"
      ],
      "metadata": {
        "id": "qLxtviGRfsEG"
      }
    },
    {
      "cell_type": "code",
      "source": [
        "!kubectl delete all --all -n $NAMESPACE\n",
        "!kubectl get all -n $NAMESPACE"
      ],
      "metadata": {
        "id": "aLgUmxO-p-hS"
      },
      "execution_count": null,
      "outputs": []
    },
    {
      "cell_type": "code",
      "source": [
        "!kubectl get pods -n $NAMESPACE | grep $NAMESPACE | awk '{ print $1 }'"
      ],
      "metadata": {
        "id": "ZiKnJqkBeouw"
      },
      "execution_count": null,
      "outputs": []
    },
    {
      "cell_type": "code",
      "source": [
        "! kubectl exec --stdin --tty hello-docker /bin/bash"
      ],
      "metadata": {
        "id": "NsOmRP7oeqIS"
      },
      "execution_count": null,
      "outputs": []
    },
    {
      "cell_type": "code",
      "source": [
        "#! curl hello-docker.hello-docker.svc.cluster.local:8000/hello-docker/"
      ],
      "metadata": {
        "id": "UFT1mRTfJQ3V"
      },
      "execution_count": null,
      "outputs": []
    }
  ]
}